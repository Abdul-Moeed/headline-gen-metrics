{
  "nbformat": 4,
  "nbformat_minor": 0,
  "metadata": {
    "colab": {
      "name": "Avg_AES_FED_ROUGE.ipynb",
      "provenance": [],
      "collapsed_sections": [
        "pOTzp8O36CyQ",
        "t-qGpYrHZRlJ",
        "HSFj25wuY3mn"
      ],
      "include_colab_link": true
    },
    "kernelspec": {
      "name": "python3",
      "display_name": "Python 3"
    },
    "accelerator": "GPU"
  },
  "cells": [
    {
      "cell_type": "markdown",
      "metadata": {
        "id": "view-in-github",
        "colab_type": "text"
      },
      "source": [
        "<a href=\"https://colab.research.google.com/github/Abdul-Moeed/headline-gen-metrics/blob/master/rouge_eval.ipynb\" target=\"_parent\"><img src=\"https://colab.research.google.com/assets/colab-badge.svg\" alt=\"Open In Colab\"/></a>"
      ]
    },
    {
      "cell_type": "markdown",
      "metadata": {
        "id": "RJnSy9gEtzUG",
        "colab_type": "text"
      },
      "source": [
        "# GPT-2\n",
        "This notebook goes through the process from generating headlines to evaluating them with GPT-2"
      ]
    },
    {
      "cell_type": "markdown",
      "metadata": {
        "id": "kWnoxBfltt5m",
        "colab_type": "text"
      },
      "source": [
        "### Preparing environment"
      ]
    },
    {
      "cell_type": "code",
      "metadata": {
        "id": "_MplgGuAuyD2",
        "colab_type": "code",
        "outputId": "9a2a6318-a70a-4f4c-8ced-17b134d52bc1",
        "colab": {
          "base_uri": "https://localhost:8080/",
          "height": 122
        }
      },
      "source": [
        "# import google drive access\n",
        "from google.colab import drive\n",
        "drive.mount('/content/gdrive')"
      ],
      "execution_count": 0,
      "outputs": [
        {
          "output_type": "stream",
          "text": [
            "Go to this URL in a browser: https://accounts.google.com/o/oauth2/auth?client_id=947318989803-6bn6qk8qdgf4n4g3pfee6491hc0brc4i.apps.googleusercontent.com&redirect_uri=urn%3aietf%3awg%3aoauth%3a2.0%3aoob&response_type=code&scope=email%20https%3a%2f%2fwww.googleapis.com%2fauth%2fdocs.test%20https%3a%2f%2fwww.googleapis.com%2fauth%2fdrive%20https%3a%2f%2fwww.googleapis.com%2fauth%2fdrive.photos.readonly%20https%3a%2f%2fwww.googleapis.com%2fauth%2fpeopleapi.readonly\n",
            "\n",
            "Enter your authorization code:\n",
            "··········\n",
            "Mounted at /content/gdrive\n"
          ],
          "name": "stdout"
        }
      ]
    },
    {
      "cell_type": "code",
      "metadata": {
        "id": "alHYMEW5j7Me",
        "colab_type": "code",
        "outputId": "db9682f8-8b65-4706-f3cb-70eaee83faed",
        "colab": {
          "base_uri": "https://localhost:8080/",
          "height": 34
        }
      },
      "source": [
        "cd /content/gdrive/'My Drive'/GPT-2"
      ],
      "execution_count": 0,
      "outputs": [
        {
          "output_type": "stream",
          "text": [
            "/content/gdrive/My Drive/GPT-2\n"
          ],
          "name": "stdout"
        }
      ]
    },
    {
      "cell_type": "code",
      "metadata": {
        "id": "LxPwcGYZwh-E",
        "colab_type": "code",
        "outputId": "05b9cbc1-2a64-4d90-a0fc-3a855f16e01b",
        "colab": {
          "base_uri": "https://localhost:8080/",
          "height": 34
        }
      },
      "source": [
        "cd gpt2"
      ],
      "execution_count": 0,
      "outputs": [
        {
          "output_type": "stream",
          "text": [
            "/content/gdrive/My Drive/GPT-2/gpt2\n"
          ],
          "name": "stdout"
        }
      ]
    },
    {
      "cell_type": "code",
      "metadata": {
        "id": "0Aa2N5D25u0L",
        "colab_type": "code",
        "outputId": "716c7e3f-d616-4dbc-ce90-228d6bb12262",
        "colab": {
          "base_uri": "https://localhost:8080/",
          "height": 102
        }
      },
      "source": [
        "!pip install py-rouge"
      ],
      "execution_count": 0,
      "outputs": [
        {
          "output_type": "stream",
          "text": [
            "Collecting py-rouge\n",
            "\u001b[?25l  Downloading https://files.pythonhosted.org/packages/9c/1d/0bdbaf559fb7afe32308ebc84a2028600988212d7eb7fb9f69c4e829e4a0/py_rouge-1.1-py3-none-any.whl (56kB)\n",
            "\r\u001b[K     |█████▊                          | 10kB 18.0MB/s eta 0:00:01\r\u001b[K     |███████████▌                    | 20kB 4.4MB/s eta 0:00:01\r\u001b[K     |█████████████████▎              | 30kB 6.2MB/s eta 0:00:01\r\u001b[K     |███████████████████████         | 40kB 7.9MB/s eta 0:00:01\r\u001b[K     |████████████████████████████▉   | 51kB 5.1MB/s eta 0:00:01\r\u001b[K     |████████████████████████████████| 61kB 3.8MB/s \n",
            "\u001b[?25hInstalling collected packages: py-rouge\n",
            "Successfully installed py-rouge-1.1\n"
          ],
          "name": "stdout"
        }
      ]
    },
    {
      "cell_type": "code",
      "metadata": {
        "id": "7K_psip_8k1X",
        "colab_type": "code",
        "outputId": "2e90892e-1fd6-416e-c873-de3000fa7bf0",
        "colab": {
          "base_uri": "https://localhost:8080/",
          "height": 51
        }
      },
      "source": [
        "!pip install nltk"
      ],
      "execution_count": 0,
      "outputs": [
        {
          "output_type": "stream",
          "text": [
            "Requirement already satisfied: nltk in /usr/local/lib/python3.6/dist-packages (3.2.5)\n",
            "Requirement already satisfied: six in /usr/local/lib/python3.6/dist-packages (from nltk) (1.12.0)\n"
          ],
          "name": "stdout"
        }
      ]
    },
    {
      "cell_type": "code",
      "metadata": {
        "id": "bBeVJa2JvTro",
        "colab_type": "code",
        "outputId": "efa88044-f5cb-41ab-cbbe-2f03a38fbeff",
        "colab": {
          "base_uri": "https://localhost:8080/",
          "height": 114
        }
      },
      "source": [
        "import json\n",
        "import gzip\n",
        "import math\n",
        "import numpy as np\n",
        "import pandas as pd\n",
        "from utils import getDF\n",
        "from pickle import load\n",
        "import tensorflow as tf\n",
        "import tensorflow_hub as hub\n",
        "import matplotlib.pyplot as plt\n",
        "import os\n",
        "import re\n",
        "import seaborn as sns\n",
        "import rouge\n",
        "from utils import create_list, angular_similarity, frechet_distance\n",
        "\n",
        "import nltk\n",
        "nltk.download('punkt')"
      ],
      "execution_count": 0,
      "outputs": [
        {
          "output_type": "display_data",
          "data": {
            "text/html": [
              "<p style=\"color: red;\">\n",
              "The default version of TensorFlow in Colab will soon switch to TensorFlow 2.x.<br>\n",
              "We recommend you <a href=\"https://www.tensorflow.org/guide/migrate\" target=\"_blank\">upgrade</a> now \n",
              "or ensure your notebook will continue to use TensorFlow 1.x via the <code>%tensorflow_version 1.x</code> magic:\n",
              "<a href=\"https://colab.research.google.com/notebooks/tensorflow_version.ipynb\" target=\"_blank\">more info</a>.</p>\n"
            ],
            "text/plain": [
              "<IPython.core.display.HTML object>"
            ]
          },
          "metadata": {
            "tags": []
          }
        },
        {
          "output_type": "stream",
          "text": [
            "[nltk_data] Downloading package punkt to /root/nltk_data...\n",
            "[nltk_data]   Unzipping tokenizers/punkt.zip.\n"
          ],
          "name": "stdout"
        },
        {
          "output_type": "execute_result",
          "data": {
            "text/plain": [
              "True"
            ]
          },
          "metadata": {
            "tags": []
          },
          "execution_count": 6
        }
      ]
    },
    {
      "cell_type": "code",
      "metadata": {
        "id": "14Epe8KojksJ",
        "colab_type": "code",
        "colab": {}
      },
      "source": [
        "# Load Data\n",
        "with open('samples.json', 'r') as read_file:\n",
        "  data = json.load(read_file)\n",
        "  \n",
        "#generated, summary, review = create_list(data)"
      ],
      "execution_count": 0,
      "outputs": []
    },
    {
      "cell_type": "code",
      "metadata": {
        "id": "24jiILAQVymP",
        "colab_type": "code",
        "colab": {}
      },
      "source": [
        "generated = [] # generated\n",
        "summary = [] # ground truth\n",
        "review = []\n",
        "\n",
        "for key in data:\n",
        "  summary_text = data[key]['summary'][:-1].strip()\n",
        "  generated_text = data[key]['generated'][0].strip()\n",
        "  \n",
        "  if summary_text != generated_text:\n",
        "    review.append(data[key]['reviewText'][:-7])\n",
        "    summary.append(summary_text)\n",
        "    generated.append(generated_text)\n",
        "  else:\n",
        "    print(summary_text, \" | \", generated_text)\n"
      ],
      "execution_count": 0,
      "outputs": []
    },
    {
      "cell_type": "code",
      "metadata": {
        "id": "OssrcL54pfV9",
        "colab_type": "code",
        "colab": {}
      },
      "source": [
        "generated = generated[:20]\n",
        "summary = summary[:20]\n",
        "review = review[:20]"
      ],
      "execution_count": 0,
      "outputs": []
    },
    {
      "cell_type": "markdown",
      "metadata": {
        "id": "t-qGpYrHZRlJ",
        "colab_type": "text"
      },
      "source": [
        "### Angular Similarity"
      ]
    },
    {
      "cell_type": "code",
      "metadata": {
        "id": "AmG2Q0xU5o2r",
        "colab_type": "code",
        "colab": {}
      },
      "source": [
        "# individual angular similarity calculation\n",
        "ang_sim_gen_gt = []\n",
        "ang_sim_gen_text = []\n",
        "ang_sim_gt_text = []\n",
        "for i in range(len(generated)):\n",
        "  gen = np.expand_dims(generated_embeddings[i], axis=0)\n",
        "  summary = np.expand_dims(summary_embeddings[i], axis=0)\n",
        "  review = np.expand_dims(review_embeddings[i], axis=0)\n",
        "  \n",
        "  ang_sim_gen_gt.append(float(angular_similarity(gen, summary)[0]))\n",
        "  ang_sim_gen_text.append(float(angular_similarity(gen, review)[0]))\n",
        "  ang_sim_gt_text.append(float(angular_similarity(summary, review)[0]))"
      ],
      "execution_count": 0,
      "outputs": []
    },
    {
      "cell_type": "code",
      "metadata": {
        "id": "ZDGQFoYo-UCM",
        "colab_type": "code",
        "colab": {}
      },
      "source": [
        "# save these to json file\n",
        "scores = {}\n",
        "scores['Newsroom'] = {'gen_gt': ang_sim_gen_gt,\n",
        "                   'gen_text': ang_sim_gen_text,\n",
        "                   'gt_text': ang_sim_gt_text}\n",
        "with open('angular.json', 'a') as outfile:\n",
        "  json.dump(scores, outfile)"
      ],
      "execution_count": 0,
      "outputs": []
    },
    {
      "cell_type": "code",
      "metadata": {
        "id": "etRZL1GzaUqw",
        "colab_type": "code",
        "colab": {}
      },
      "source": [
        "angular_generated_summary = angular_similarity(generated_embeddings, summary_embeddings)\n",
        "angular_generated_review = angular_similarity(generated_embeddings, review_embeddings)\n",
        "angular_summary_review = angular_similarity(summary_embeddings, review_embeddings)"
      ],
      "execution_count": 0,
      "outputs": []
    },
    {
      "cell_type": "code",
      "metadata": {
        "id": "BsPdIhfveMOQ",
        "colab_type": "code",
        "outputId": "c48a3bd5-18a3-41ac-eb52-b59261ea6542",
        "colab": {
          "base_uri": "https://localhost:8080/",
          "height": 329
        }
      },
      "source": [
        "print(angular_generated_summary.mean())\n",
        "sns.distplot(angular_generated_summary)\n",
        "plt.xlabel('angular similarity')\n",
        "plt.ylabel('count')\n",
        "plt.title('Garden - Generated vs. Ground Truth')\n",
        "plt.axvline(angular_generated_summary.mean(),linestyle='-.')"
      ],
      "execution_count": 0,
      "outputs": [
        {
          "output_type": "stream",
          "text": [
            "0.6903917\n"
          ],
          "name": "stdout"
        },
        {
          "output_type": "execute_result",
          "data": {
            "text/plain": [
              "<matplotlib.lines.Line2D at 0x7fd36de9df60>"
            ]
          },
          "metadata": {
            "tags": []
          },
          "execution_count": 20
        },
        {
          "output_type": "display_data",
          "data": {
            "image/png": "[encoded data removed]",
            "text/plain": [
              "<Figure size 432x288 with 1 Axes>"
            ]
          },
          "metadata": {
            "tags": []
          }
        }
      ]
    },
    {
      "cell_type": "code",
      "metadata": {
        "id": "FCThaJOPd4VE",
        "colab_type": "code",
        "outputId": "27c565e8-ebcb-4f06-e53c-354fef0dd9ea",
        "colab": {
          "base_uri": "https://localhost:8080/",
          "height": 329
        }
      },
      "source": [
        "print(angular_generated_review.mean())\n",
        "sns.distplot(angular_generated_review,color='g')\n",
        "plt.xlabel('angular similarity')\n",
        "plt.ylabel('count')\n",
        "plt.title('Garden - Generated vs. Review')\n",
        "plt.axvline(angular_generated_review.mean(),linestyle='-.',color='g')"
      ],
      "execution_count": 0,
      "outputs": [
        {
          "output_type": "stream",
          "text": [
            "0.70064783\n"
          ],
          "name": "stdout"
        },
        {
          "output_type": "execute_result",
          "data": {
            "text/plain": [
              "<matplotlib.lines.Line2D at 0x7fd37932e3c8>"
            ]
          },
          "metadata": {
            "tags": []
          },
          "execution_count": 21
        },
        {
          "output_type": "display_data",
          "data": {
            "image/png": "[encoded data removed]",
            "text/plain": [
              "<Figure size 432x288 with 1 Axes>"
            ]
          },
          "metadata": {
            "tags": []
          }
        }
      ]
    },
    {
      "cell_type": "code",
      "metadata": {
        "id": "6kG8gd90efOG",
        "colab_type": "code",
        "outputId": "76fe7e22-ca20-4a2c-8467-8fa57136cfc0",
        "colab": {
          "base_uri": "https://localhost:8080/",
          "height": 329
        }
      },
      "source": [
        "print(angular_summary_review.mean())\n",
        "sns.distplot(angular_summary_review,color='r')\n",
        "plt.xlabel('angular similarity')\n",
        "plt.ylabel('count')\n",
        "plt.title('Garden - Ground Truth vs. Review')\n",
        "plt.axvline(angular_summary_review.mean(),linestyle='-.',color='r')"
      ],
      "execution_count": 0,
      "outputs": [
        {
          "output_type": "stream",
          "text": [
            "0.7161089\n"
          ],
          "name": "stdout"
        },
        {
          "output_type": "execute_result",
          "data": {
            "text/plain": [
              "<matplotlib.lines.Line2D at 0x7fd3600b4390>"
            ]
          },
          "metadata": {
            "tags": []
          },
          "execution_count": 22
        },
        {
          "output_type": "display_data",
          "data": {
            "image/png": "[encoded data removed]",
            "text/plain": [
              "<Figure size 432x288 with 1 Axes>"
            ]
          },
          "metadata": {
            "tags": []
          }
        }
      ]
    },
    {
      "cell_type": "markdown",
      "metadata": {
        "id": "LoCetd6V6Ygk",
        "colab_type": "text"
      },
      "source": [
        "### ROUGE"
      ]
    },
    {
      "cell_type": "code",
      "metadata": {
        "id": "GRTOFqiuUuiS",
        "colab_type": "code",
        "colab": {}
      },
      "source": [
        "def get_samples(name):\n",
        "  with open(name, 'r') as read_file:\n",
        "    data = json.load(read_file)\n",
        "\n",
        "  generated = [] # generated\n",
        "  summary = [] # ground truth\n",
        "  review = []\n",
        "\n",
        "  for key in data:\n",
        "    summary_text = data[key]['summary'][:-1].strip()\n",
        "    generated_text = data[key]['generated'][0].strip()\n",
        "    \n",
        "    if summary_text != generated_text:\n",
        "      review.append(data[key]['reviewText'][:-7])\n",
        "      summary.append(summary_text)\n",
        "      generated.append(generated_text)\n",
        "    else:\n",
        "      print(summary_text, \" | \", generated_text)\n",
        "\n",
        "  generated = generated[:20]\n",
        "  summary = summary[:20]\n",
        "  review = review[:20]\n",
        "\n",
        "  return generated, summary, review"
      ],
      "execution_count": 0,
      "outputs": []
    },
    {
      "cell_type": "code",
      "metadata": {
        "id": "MeIufBKsTEon",
        "colab_type": "code",
        "colab": {}
      },
      "source": [
        "def get_f_score(data):\n",
        "  result = dict()\n",
        "  for key, value in data.items():\n",
        "    result[key] = value[0]['f'][0]\n",
        "  \n",
        "  return result"
      ],
      "execution_count": 0,
      "outputs": []
    },
    {
      "cell_type": "code",
      "metadata": {
        "id": "zIemcxxK7xmJ",
        "colab_type": "code",
        "colab": {}
      },
      "source": [
        "def get_rouge_scores(generated, summary, review, evaluator):\n",
        "  gen_gt = []\n",
        "  gen_text = []\n",
        "  gt_text = []\n",
        "\n",
        "  for gen, summ, rev in zip(generated, summary, review):\n",
        "    gen_gt.append(get_f_score(evaluator.get_scores(gen, summ)))\n",
        "    gen_text.append(get_f_score(evaluator.get_scores(gen, rev)))\n",
        "    gt_text.append(get_f_score(evaluator.get_scores(summ, rev)))\n",
        "  \n",
        "  return gen_gt, gen_text, gt_text"
      ],
      "execution_count": 0,
      "outputs": []
    },
    {
      "cell_type": "code",
      "metadata": {
        "id": "Nbzjl0Rp6byD",
        "colab_type": "code",
        "colab": {}
      },
      "source": [
        "evaluator = rouge.Rouge(metrics=['rouge-n', 'rouge-l'],\n",
        "                       max_n=2,\n",
        "                       limit_length=False,\n",
        "                       length_limit=1000,\n",
        "                       length_limit_type='words',\n",
        "                       apply_avg=False,\n",
        "                       apply_best=False,\n",
        "                       alpha=0.5, # Default F1_score\n",
        "                       weight_factor=1.2,\n",
        "                       stemming=True)"
      ],
      "execution_count": 0,
      "outputs": []
    },
    {
      "cell_type": "code",
      "metadata": {
        "id": "iQeXeQm1W1zo",
        "colab_type": "code",
        "outputId": "59c558aa-3625-418f-d206-884e77dbb3d6",
        "colab": {
          "base_uri": "https://localhost:8080/",
          "height": 459
        }
      },
      "source": [
        "datasets = [\"samples.json\", \"samples_cnn-dm.json\", \"samples-newsroom.json\", \"samples-gigaword.json\"]\n",
        "rouge_scores = []\n",
        "for dataset in datasets:\n",
        "  generated, summary, review = get_samples(dataset)\n",
        "  gen_gt, gen_text, gt_text = get_rouge_scores(generated, summary, review, evaluator)\n",
        "  rouge_scores.append({\"gen_gt\": gen_gt,\n",
        "                         \"gen_text\": gen_text,\n",
        "                         \"gt_text\": gt_text})\n",
        "with open('rouge_f_scores.json', 'w') as outfile:\n",
        "  json.dump(rouge_scores, outfile)\n"
      ],
      "execution_count": 0,
      "outputs": [
        {
          "output_type": "stream",
          "text": [
            "This page includes the show Transcript  |  This page includes the show Transcript\n",
            "coulthard wins monaco grand prix  |  coulthard wins monaco grand prix\n",
            "dollar at ###.##-## yen in early tokyo trade  |  dollar at ###.##-## yen in early tokyo trade\n",
            "hong kong gold opens lower  |  hong kong gold opens lower\n",
            "hong kong shares open slightly lower  |  hong kong shares open slightly lower\n",
            "jakarta shares close fractionally higher  |  jakarta shares close fractionally higher\n",
            "hong kong gold opens higher  |  hong kong gold opens higher\n",
            "new zealand stocks close #.# percent firmer  |  new zealand stocks close #.# percent firmer\n",
            "modahl retires from athletics  |  modahl retires from athletics\n",
            "hong kong gold closes higher  |  hong kong gold closes higher\n",
            "malaysian shares close #.# percent lower  |  malaysian shares close #.# percent lower\n",
            "malaysian shares close #.# percent lower  |  malaysian shares close #.# percent lower\n",
            "palestinian police fire on israeli car  |  palestinian police fire on israeli car\n",
            "solzhenitsyn 's son arrives in vladivostok  |  solzhenitsyn 's son arrives in vladivostok\n",
            "dollar opens lower in tokyo  |  dollar opens lower in tokyo\n",
            "rand stabilises against dollar  |  rand stabilises against dollar\n",
            "dollar opens higher in tokyo  |  dollar opens higher in tokyo\n",
            "dollar opens lower in tokyo  |  dollar opens lower in tokyo\n",
            "un soldier killed in kigali  |  un soldier killed in kigali\n",
            "dollar at ###.##-## yen in early tokyo trading  |  dollar at ###.##-## yen in early tokyo trading\n",
            "gascoigne ruled out of england friendly  |  gascoigne ruled out of england friendly\n",
            "factsheet on french nuclear tests  |  factsheet on french nuclear tests\n",
            "wall street opens higher  |  wall street opens higher\n",
            "dollar at ###.##-## yen in early tokyo trading  |  dollar at ###.##-## yen in early tokyo trading\n",
            "tokyo stocks open lower  |  tokyo stocks open lower\n",
            "us trade deficit narrows in august  |  us trade deficit narrows in august\n"
          ],
          "name": "stdout"
        }
      ]
    },
    {
      "cell_type": "code",
      "metadata": {
        "id": "sTZOYWb28xrw",
        "colab_type": "code",
        "colab": {}
      },
      "source": [
        "'''\n",
        "dataset = \"Amazon\"\n",
        "rouge_scores = dict()\n",
        "rouge_scores[dataset] = {\"gen_gt\": gen_gt,\n",
        "                         \"gen_text\": gen_text,\n",
        "                         \"gt_text\": gt_text}\n",
        "with open('rouge.json', 'w') as outfile:\n",
        "  json.dump(rouge_scores, outfile)\n",
        "'''"
      ],
      "execution_count": 0,
      "outputs": []
    },
    {
      "cell_type": "code",
      "metadata": {
        "id": "A0H31DMKG3PY",
        "colab_type": "code",
        "colab": {}
      },
      "source": [
        "def calc_mean_scores(data):\n",
        "  r1_f, r2_f, rl_f, rw_f = [], [], [], []\n",
        "  r1_p, r2_p, rl_p, rw_p = [], [], [], []\n",
        "  r1_r, r2_r, rl_r, rw_r = [], [], [], []\n",
        "  for item in data:\n",
        "    r1_f.append(item['rouge-1'][0]['f'][0])\n",
        "    r1_p.append(item['rouge-1'][0]['p'][0])\n",
        "    r1_r.append(item['rouge-1'][0]['r'][0])\n",
        "\n",
        "    r2_f.append(item['rouge-2'][0]['f'][0])\n",
        "    r2_p.append(item['rouge-2'][0]['p'][0])\n",
        "    r2_r.append(item['rouge-2'][0]['r'][0])\n",
        "\n",
        "    rl_f.append(item['rouge-l'][0]['f'][0])\n",
        "    rl_p.append(item['rouge-l'][0]['p'][0])\n",
        "    rl_r.append(item['rouge-l'][0]['r'][0])\n",
        "\n",
        "    rw_f.append(item['rouge-w'][0]['f'][0])\n",
        "    rw_p.append(item['rouge-w'][0]['p'][0])\n",
        "    rw_r.append(item['rouge-w'][0]['r'][0])\n",
        "\n",
        "  r1_f = sum(r1_f)/float(len(r1_f))\n",
        "  r2_f = sum(r2_f)/float(len(r2_f))\n",
        "  rl_f = sum(rl_f)/float(len(rl_f))\n",
        "  rw_f = sum(rw_f)/float(len(rw_f))\n",
        "\n",
        "  r1_p = sum(r1_p)/float(len(r1_p))\n",
        "  r2_p = sum(r2_p)/float(len(r2_p))\n",
        "  rl_p = sum(rl_p)/float(len(rl_p))\n",
        "  rw_p = sum(rw_p)/float(len(rw_p))\n",
        "\n",
        "  r1_r = sum(r1_r)/float(len(r1_r))\n",
        "  r2_r = sum(r2_r)/float(len(r2_r))\n",
        "  rl_r = sum(rl_r)/float(len(rl_r))\n",
        "  rw_r = sum(rw_r)/float(len(rw_r))\n",
        "\n",
        "  return r1_f, r2_f, rl_f, rw_f, r1_p, r2_p, rl_p, rw_p, r1_r, r2_r, rl_r, rw_r"
      ],
      "execution_count": 0,
      "outputs": []
    },
    {
      "cell_type": "code",
      "metadata": {
        "id": "e31jAngtOifK",
        "colab_type": "code",
        "colab": {}
      },
      "source": [
        "# calculate avg rouge on dataset\n",
        "rouge_mean = dict()\n",
        "rouge_mean[dataset] = {\"gen_gt\": {\"r1\": {\"f\": 0, \"p\": 0, \"r\": 0},\n",
        "                                  \"r2\": {\"f\": 0, \"p\": 0, \"r\": 0},\n",
        "                                  \"rl\": {\"f\": 0, \"p\": 0, \"r\": 0},\n",
        "                                  \"rw\": {\"f\": 0, \"p\": 0, \"r\": 0}},\n",
        "                       \"gen_text\": {\"r1\": {\"f\": 0, \"p\": 0, \"r\": 0},\n",
        "                                  \"r2\": {\"f\": 0, \"p\": 0, \"r\": 0},\n",
        "                                  \"rl\": {\"f\": 0, \"p\": 0, \"r\": 0},\n",
        "                                  \"rw\": {\"f\": 0, \"p\": 0, \"r\": 0}},\n",
        "                       \"gt_text\": {\"r1\": {\"f\": 0, \"p\": 0, \"r\": 0},\n",
        "                                  \"r2\": {\"f\": 0, \"p\": 0, \"r\": 0},\n",
        "                                  \"rl\": {\"f\": 0, \"p\": 0, \"r\": 0},\n",
        "                                  \"rw\": {\"f\": 0, \"p\": 0, \"r\": 0}}}\n",
        "for idx, l in enumerate((gen_gt, gen_text, gt_text)):\n",
        "  if idx == 0:\n",
        "    l_type = \"gen_gt\"\n",
        "  elif idx == 1:\n",
        "    l_type = \"gen_text\"\n",
        "  else:\n",
        "    l_type = \"gt_text\"\n",
        "    \n",
        "  r1_f, r2_f, rl_f, rw_f, r1_p, r2_p, rl_p, rw_p, r1_r, r2_r, rl_r, rw_r = calc_mean_scores(l)\n",
        "  rouge_mean[dataset][l_type][\"r1\"][\"f\"] = r1_f\n",
        "  rouge_mean[dataset][l_type][\"r2\"][\"f\"] = r2_f\n",
        "  rouge_mean[dataset][l_type][\"rl\"][\"f\"] = rl_f\n",
        "  rouge_mean[dataset][l_type][\"rw\"][\"f\"] = rw_f\n",
        "  \n",
        "  rouge_mean[dataset][l_type][\"r1\"][\"r\"] = r1_r\n",
        "  rouge_mean[dataset][l_type][\"r2\"][\"r\"] = r2_r\n",
        "  rouge_mean[dataset][l_type][\"rl\"][\"r\"] = rl_r\n",
        "  rouge_mean[dataset][l_type][\"rw\"][\"r\"] = rw_r\n",
        "  \n",
        "  rouge_mean[dataset][l_type][\"r1\"][\"p\"] = r1_p\n",
        "  rouge_mean[dataset][l_type][\"r2\"][\"p\"] = r2_p\n",
        "  rouge_mean[dataset][l_type][\"rl\"][\"p\"] = rl_p\n",
        "  rouge_mean[dataset][l_type][\"rw\"][\"p\"] = rw_p\n",
        "with open('rouge_mean_scores.json', 'a') as outfile:\n",
        "  json.dump(rouge_mean, outfile)"
      ],
      "execution_count": 0,
      "outputs": []
    },
    {
      "cell_type": "code",
      "metadata": {
        "id": "AuqpRSEZRquy",
        "colab_type": "code",
        "outputId": "ee418695-4cb7-48bb-97ca-678fb564108d",
        "colab": {
          "base_uri": "https://localhost:8080/",
          "height": 629
        }
      },
      "source": [
        "rouge_mean"
      ],
      "execution_count": 0,
      "outputs": [
        {
          "output_type": "execute_result",
          "data": {
            "text/plain": [
              "{'Newsroom': {'gen_gt': {'r1': {'f': 0.16052275443558012,\n",
              "    'p': 0.16030814628144052,\n",
              "    'r': 0.17912254272753442},\n",
              "   'r2': {'f': 0.04464684679527587,\n",
              "    'p': 0.04470936912627627,\n",
              "    'r': 0.051521665694367606},\n",
              "   'rl': {'f': 0.18590965203415097,\n",
              "    'p': 0.18425884122266198,\n",
              "    'r': 0.20276836197974335},\n",
              "   'rw': {'f': 0.10982962570912899,\n",
              "    'p': 0.1379572412364323,\n",
              "    'r': 0.10162035574206267}},\n",
              "  'gen_text': {'r1': {'f': 0.11054784810450792,\n",
              "    'p': 0.5110575785892935,\n",
              "    'r': 0.06520525400788767},\n",
              "   'r2': {'f': 0.03155946227363776,\n",
              "    'p': 0.15548624885885584,\n",
              "    'r': 0.01848581886960252},\n",
              "   'rl': {'f': 0.13575037965206382,\n",
              "    'p': 0.47296264135591837,\n",
              "    'r': 0.08289113082896829},\n",
              "   'rw': {'f': 0.03510495699998911,\n",
              "    'p': 0.3538852703053136,\n",
              "    'r': 0.01920173980458071}},\n",
              "  'gt_text': {'r1': {'f': 0.12428620381706026,\n",
              "    'p': 0.6106625087315227,\n",
              "    'r': 0.0730630315591771},\n",
              "   'r2': {'f': 0.05315383246765315,\n",
              "    'p': 0.2591375339182323,\n",
              "    'r': 0.03175599460740114},\n",
              "   'rl': {'f': 0.15393518775667114,\n",
              "    'p': 0.5627031677275094,\n",
              "    'r': 0.09354043576372822},\n",
              "   'rw': {'f': 0.04407030749901561,\n",
              "    'p': 0.44672811968626336,\n",
              "    'r': 0.02430174165027417}}}}"
            ]
          },
          "metadata": {
            "tags": []
          },
          "execution_count": 91
        }
      ]
    }
  ]
}